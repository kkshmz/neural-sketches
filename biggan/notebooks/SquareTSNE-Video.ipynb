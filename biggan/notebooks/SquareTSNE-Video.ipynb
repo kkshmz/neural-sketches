{
 "cells": [
  {
   "cell_type": "code",
   "execution_count": 2,
   "metadata": {},
   "outputs": [
    {
     "name": "stdout",
     "output_type": "stream",
     "text": [
      "Collecting git+https://github.com/bmcfee/RasterFairy/\n",
      "  Cloning https://github.com/bmcfee/RasterFairy/ to /private/var/folders/9f/mbhf80g925v4y2rqkdftnwhr0000gp/T/pip-req-build-a2biwhlp\n",
      "  Running command git clone -q https://github.com/bmcfee/RasterFairy/ /private/var/folders/9f/mbhf80g925v4y2rqkdftnwhr0000gp/T/pip-req-build-a2biwhlp\n",
      "Requirement already satisfied, skipping upgrade: numpy>=1.8.0 in /usr/local/miniconda3/envs/tfpy36/lib/python3.6/site-packages (from rasterfairy==1.0.3) (1.17.3)\n",
      "Requirement already satisfied, skipping upgrade: scipy>=0.13.0 in /usr/local/miniconda3/envs/tfpy36/lib/python3.6/site-packages (from rasterfairy==1.0.3) (1.3.1)\n",
      "Building wheels for collected packages: rasterfairy\n",
      "  Building wheel for rasterfairy (setup.py) ... \u001b[?25ldone\n",
      "\u001b[?25h  Created wheel for rasterfairy: filename=rasterfairy-1.0.3-cp36-none-any.whl size=30377 sha256=07a58b376a3e8b6d15689bcc7d817f180afe9bdd93809e48e59ec5aec46f2601\n",
      "  Stored in directory: /private/var/folders/9f/mbhf80g925v4y2rqkdftnwhr0000gp/T/pip-ephem-wheel-cache-e5xjv9ki/wheels/44/94/fe/551b99d4c1a07bacba1beddaafd0e6100d09ef4b1224869bc9\n",
      "Successfully built rasterfairy\n",
      "Installing collected packages: rasterfairy\n",
      "  Found existing installation: rasterfairy 1.0.3\n",
      "    Uninstalling rasterfairy-1.0.3:\n",
      "      Successfully uninstalled rasterfairy-1.0.3\n",
      "Successfully installed rasterfairy-1.0.3\n"
     ]
    }
   ],
   "source": [
    "!pip install -U git+https://github.com/bmcfee/RasterFairy/ --user"
   ]
  },
  {
   "cell_type": "code",
   "execution_count": 1,
   "metadata": {
    "scrolled": true
   },
   "outputs": [
    {
     "name": "stderr",
     "output_type": "stream",
     "text": [
      "Using TensorFlow backend.\n",
      "/usr/local/miniconda3/envs/tfpy36/lib/python3.6/site-packages/tensorflow/python/framework/dtypes.py:526: FutureWarning: Passing (type, 1) or '1type' as a synonym of type is deprecated; in a future version of numpy, it will be understood as (type, (1,)) / '(1,)type'.\n",
      "  _np_qint8 = np.dtype([(\"qint8\", np.int8, 1)])\n",
      "/usr/local/miniconda3/envs/tfpy36/lib/python3.6/site-packages/tensorflow/python/framework/dtypes.py:527: FutureWarning: Passing (type, 1) or '1type' as a synonym of type is deprecated; in a future version of numpy, it will be understood as (type, (1,)) / '(1,)type'.\n",
      "  _np_quint8 = np.dtype([(\"quint8\", np.uint8, 1)])\n",
      "/usr/local/miniconda3/envs/tfpy36/lib/python3.6/site-packages/tensorflow/python/framework/dtypes.py:528: FutureWarning: Passing (type, 1) or '1type' as a synonym of type is deprecated; in a future version of numpy, it will be understood as (type, (1,)) / '(1,)type'.\n",
      "  _np_qint16 = np.dtype([(\"qint16\", np.int16, 1)])\n",
      "/usr/local/miniconda3/envs/tfpy36/lib/python3.6/site-packages/tensorflow/python/framework/dtypes.py:529: FutureWarning: Passing (type, 1) or '1type' as a synonym of type is deprecated; in a future version of numpy, it will be understood as (type, (1,)) / '(1,)type'.\n",
      "  _np_quint16 = np.dtype([(\"quint16\", np.uint16, 1)])\n",
      "/usr/local/miniconda3/envs/tfpy36/lib/python3.6/site-packages/tensorflow/python/framework/dtypes.py:530: FutureWarning: Passing (type, 1) or '1type' as a synonym of type is deprecated; in a future version of numpy, it will be understood as (type, (1,)) / '(1,)type'.\n",
      "  _np_qint32 = np.dtype([(\"qint32\", np.int32, 1)])\n",
      "/usr/local/miniconda3/envs/tfpy36/lib/python3.6/site-packages/tensorflow/python/framework/dtypes.py:535: FutureWarning: Passing (type, 1) or '1type' as a synonym of type is deprecated; in a future version of numpy, it will be understood as (type, (1,)) / '(1,)type'.\n",
      "  np_resource = np.dtype([(\"resource\", np.ubyte, 1)])\n"
     ]
    }
   ],
   "source": [
    "%matplotlib inline\n",
    "import os\n",
    "import random\n",
    "import numpy as np\n",
    "import json\n",
    "import matplotlib.pyplot\n",
    "import pickle\n",
    "from matplotlib.pyplot import imshow\n",
    "from PIL import Image\n",
    "from sklearn.manifold import TSNE\n",
    "import sys\n",
    "import numpy as np\n",
    "import json\n",
    "import os\n",
    "from os.path import isfile, join\n",
    "import keras\n",
    "from keras.preprocessing import image\n",
    "from keras.preprocessing.image import load_img, save_img, img_to_array, array_to_img\n",
    "from keras.applications.imagenet_utils import decode_predictions, preprocess_input\n",
    "from keras.models import Model\n",
    "from sklearn.decomposition import PCA\n",
    "from sklearn.manifold import TSNE\n",
    "from scipy.spatial import distance\n",
    "import rasterfairy\n",
    "#import tsne_grid\n",
    "import imageio"
   ]
  },
  {
   "cell_type": "code",
   "execution_count": null,
   "metadata": {},
   "outputs": [],
   "source": []
  },
  {
   "cell_type": "code",
   "execution_count": 2,
   "metadata": {},
   "outputs": [],
   "source": [
    "basedir = \"./\"\n",
    "datadir = os.path.join(basedir,'data')\n",
    "movie_path = os.path.join(datadir, \"movie/\")\n",
    "image_path = os.path.join(datadir, \"image/\")\n",
    "jsondir = os.path.join(datadir,\"json/\")\n",
    "firstframedir = os.path.join(datadir,\"ff/\")"
   ]
  },
  {
   "cell_type": "code",
   "execution_count": 5,
   "metadata": {},
   "outputs": [
    {
     "name": "stdout",
     "output_type": "stream",
     "text": [
      "99\n"
     ]
    }
   ],
   "source": [
    "onegif = os.path.join(movie_path,os.listdir(movie_path)[0])\n",
    "gif = imageio.get_reader(onegif)\n",
    "gifnum = len(gif)\n",
    "print(gifnum)\n",
    "import shutil"
   ]
  },
  {
   "cell_type": "code",
   "execution_count": 7,
   "metadata": {},
   "outputs": [],
   "source": [
    "for frame in range(0,2):\n",
    "    for movie in os.listdir(movie_path):\n",
    "        moviepath = os.path.join(movie_path,movie)\n",
    "        #print(moviepath)\n",
    "        filename, file_extension = os.path.splitext(moviepath)\n",
    "        absfilepath = os.path.abspath(moviepath)\n",
    "        image = Image.open(absfilepath)\n",
    "        image.seek(1)\n",
    "        basename = os.path.basename(filename)\n",
    "        imgsavepath = os.path.join(firstframedir,str(frame)+\"_\"+basename)\n",
    "        image = image.save(imgsavepath+\".png\",format=\"PNG\")\n",
    "    os.system(\"python tsne_grid.py --dir ./data/ff/ --size 10 --path ./outgrid/\")\n",
    "    shutil.rmtree(firstframedir)\n",
    "    os.mkdir(firstframedir)\n",
    "    \n"
   ]
  }
 ],
 "metadata": {
  "kernelspec": {
   "display_name": "Python 3",
   "language": "python",
   "name": "python3"
  }
 },
 "nbformat": 4,
 "nbformat_minor": 2
}
